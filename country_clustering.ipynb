{
 "metadata": {
  "language_info": {
   "codemirror_mode": {
    "name": "ipython",
    "version": 3
   },
   "file_extension": ".py",
   "mimetype": "text/x-python",
   "name": "python",
   "nbconvert_exporter": "python",
   "pygments_lexer": "ipython3",
   "version": "3.7.6-final"
  },
  "orig_nbformat": 2,
  "kernelspec": {
   "name": "python3",
   "display_name": "Python 3",
   "language": "python"
  }
 },
 "nbformat": 4,
 "nbformat_minor": 2,
 "cells": [
  {
   "source": [
    "Hello! Welcome!\n",
    "\n",
    "Imports below.  We're going to do some analysis.\n",
    "\n",
    "(Will make this more thorough later)"
   ],
   "cell_type": "markdown",
   "metadata": {}
  },
  {
   "cell_type": "code",
   "execution_count": 100,
   "metadata": {},
   "outputs": [],
   "source": [
    "{\n",
    "    \"tags\": [\"remove input\",]\n",
    "}\n",
    "\n",
    "import numpy as np; np.random.seed(1337)\n",
    "import pandas as pd\n",
    "import seaborn as sns; sns.set_theme()\n",
    "import matplotlib.pyplot as plt; plt.style.use('fivethirtyeight')\n",
    "# %matplotlib inline\n",
    "from sklearn.decomposition import PCA\n",
    "from sklearn.preprocessing import scale\n",
    "from sklearn.cluster import AgglomerativeClustering, KMeans"
   ]
  },
  {
   "cell_type": "code",
   "execution_count": null,
   "metadata": {},
   "outputs": [],
   "source": [
    "country_data = pd.read_csv('country-data.csv')\n",
    "country_names = country_data.pop('country')\n",
    "country_data.head()"
   ]
  },
  {
   "cell_type": "code",
   "execution_count": null,
   "metadata": {},
   "outputs": [],
   "source": [
    "country_data.isnull().sum()"
   ]
  },
  {
   "cell_type": "code",
   "execution_count": null,
   "metadata": {},
   "outputs": [],
   "source": [
    "country_data.describe()\n"
   ]
  },
  {
   "source": [
    "We can see some interesting correlations below.  Health factors correlate with mortality rates."
   ],
   "cell_type": "markdown",
   "metadata": {}
  },
  {
   "cell_type": "code",
   "execution_count": null,
   "metadata": {},
   "outputs": [],
   "source": [
    "cor = country_data.corr()\n",
    "mask = np.zeros_like(cor)\n",
    "mask[np.tril_indices_from(mask)] = True\n",
    "with sns.axes_style(\"white\"):\n",
    "    f, ax = plt.subplots(figsize=(7,5))\n",
    "    sns.heatmap(cor, \n",
    "                cmap = 'RdYlBu',\n",
    "                mask=mask, \n",
    "                center=0, annot=True, linewidths=.5)"
   ]
  },
  {
   "source": [
    "This doesn't look good.  Two of the variables are scaled completely differently."
   ],
   "cell_type": "markdown",
   "metadata": {}
  },
  {
   "cell_type": "code",
   "execution_count": null,
   "metadata": {},
   "outputs": [],
   "source": [
    "plt.boxplot(country_data, labels=country_data.columns)\n",
    "plt.xticks(rotation=60);"
   ]
  },
  {
   "source": [
    "Much better."
   ],
   "cell_type": "markdown",
   "metadata": {}
  },
  {
   "cell_type": "code",
   "execution_count": null,
   "metadata": {},
   "outputs": [],
   "source": [
    "plt.boxplot(scale(country_data), labels=country_data.columns);\n",
    "plt.xticks(rotation=60);"
   ]
  },
  {
   "source": [
    "The first 3 components explain almost 80% of the variance."
   ],
   "cell_type": "markdown",
   "metadata": {}
  },
  {
   "cell_type": "code",
   "execution_count": null,
   "metadata": {},
   "outputs": [],
   "source": [
    "country_data_scaled = scale(country_data)\n",
    "country_pca = PCA()\n",
    "df = country_pca.fit_transform(country_data_scaled)\n",
    "plt.plot(np.arange(1,10), np.cumsum(country_pca.explained_variance_ratio_), 'o-', linewidth='1');\n",
    "plt.xlabel('Principle Component');\n",
    "plt.ylabel('Cumulative Proportion of Variance');"
   ]
  },
  {
   "source": [
    "An initial attempt at clustering.  We can see 3 distinct datapoints that are clustered by themselves using 4 clusters."
   ],
   "cell_type": "markdown",
   "metadata": {}
  },
  {
   "cell_type": "code",
   "execution_count": null,
   "metadata": {},
   "outputs": [],
   "source": [
    "kmeans = KMeans(n_clusters=4)\n",
    "kmeans.fit(country_data_scaled)\n",
    "\n",
    "plot_1 = plt.axes(projection='3d')\n",
    "plot_1.set_title('76.1% explained variance')\n",
    "plot_1.scatter(df[:,0], df[:,1], df[:,2], \n",
    "                c=kmeans.labels_, \n",
    "                cmap='tab10');\n",
    "plot_1.set_xlabel('PC1');\n",
    "plot_1.set_ylabel('PC2');\n",
    "plot_1.set_zlabel('PC3');\n"
   ]
  },
  {
   "cell_type": "code",
   "execution_count": null,
   "metadata": {},
   "outputs": [],
   "source": []
  }
 ]
}